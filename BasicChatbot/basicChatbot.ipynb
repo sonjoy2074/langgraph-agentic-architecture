{
 "cells": [
  {
   "cell_type": "markdown",
   "id": "ee756061",
   "metadata": {},
   "source": [
    "### Build A Basic Chatbot with Langgraph ###"
   ]
  },
  {
   "cell_type": "code",
   "execution_count": 1,
   "id": "8fe6516d",
   "metadata": {},
   "outputs": [
    {
     "name": "stdout",
     "output_type": "stream",
     "text": [
      "Chatbot\n"
     ]
    }
   ],
   "source": [
    "print(\"Chatbot\")"
   ]
  },
  {
   "cell_type": "code",
   "execution_count": null,
   "id": "8123ecf8",
   "metadata": {},
   "outputs": [],
   "source": []
  }
 ],
 "metadata": {
  "kernelspec": {
   "display_name": ".venv",
   "language": "python",
   "name": "python3"
  },
  "language_info": {
   "codemirror_mode": {
    "name": "ipython",
    "version": 3
   },
   "file_extension": ".py",
   "mimetype": "text/x-python",
   "name": "python",
   "nbconvert_exporter": "python",
   "pygments_lexer": "ipython3",
   "version": "3.11.9"
  }
 },
 "nbformat": 4,
 "nbformat_minor": 5
}
